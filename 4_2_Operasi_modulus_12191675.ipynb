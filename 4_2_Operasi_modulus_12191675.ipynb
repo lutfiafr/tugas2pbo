{
 "cells": [
  {
   "cell_type": "code",
   "execution_count": null,
   "metadata": {
    "id": "vcWWM9-jNgXb"
   },
   "outputs": [],
   "source": []
  },
  {
   "cell_type": "markdown",
   "metadata": {
    "id": "tPBAeoa4NxzC"
   },
   "source": [
    "**Operasi modulus**\n",
    "\n",
    "Modulus memang jarang dipakai namun, dibeberapa kasus modulus sangat berguna untuk mempercepat proses perhitungan. Modulus sendiri merupakan fungsi yang akan menghitung sisa dari hasil pembagian. Untuk lebih jelasnya silahkan lakukan praktek di bawah ini :\n",
    "``` javascript\n",
    "c=10\n",
    "d=3\n",
    "\n",
    "modulus=c%d\n",
    "print(\"Hasil modulus\",modulus)\n",
    "```\n",
    "Ketikan code cell di bawah ini pada editor:"
   ]
  },
  {
   "cell_type": "code",
   "execution_count": 1,
   "metadata": {
    "id": "fhfc8ABhOxQa"
   },
   "outputs": [
    {
     "name": "stdout",
     "output_type": "stream",
     "text": [
      "hasil modulus 1\n"
     ]
    }
   ],
   "source": [
    "##Jawaban Tugas Praktek 3.2\n",
    "c=10\n",
    "d=3\n",
    "\n",
    "modulus=c%d\n",
    "print(\"hasil modulus\",modulus)"
   ]
  },
  {
   "cell_type": "markdown",
   "metadata": {
    "id": "dvFFTUG2O_Cb"
   },
   "source": [
    "Kenapa modulus bisa seperti itu? (berikan jawaban anda pada cell teks diabawah ini)"
   ]
  },
  {
   "cell_type": "markdown",
   "metadata": {
    "id": "Fn8nPF6TPEGa"
   },
   "source": [
    "##Jawaban Keterangan...\n",
    "modulus adalah bilangan yang membagi dua bilangan lain sehingga memperoleh sisa yang sama.\n",
    "10 mod 3 = 3, dan sisa 1\n",
    "jadi saat 10 dibagi kelipatan 3 maka yang mendekati angka 10 adalah 9, sisa 1, 1 itu modulusnya\n"
   ]
  }
 ],
 "metadata": {
  "colab": {
   "collapsed_sections": [],
   "name": "4.2_Operasi_modulus.ipynb",
   "provenance": []
  },
  "kernelspec": {
   "display_name": "Python 3",
   "language": "python",
   "name": "python3"
  },
  "language_info": {
   "codemirror_mode": {
    "name": "ipython",
    "version": 3
   },
   "file_extension": ".py",
   "mimetype": "text/x-python",
   "name": "python",
   "nbconvert_exporter": "python",
   "pygments_lexer": "ipython3",
   "version": "3.8.3"
  }
 },
 "nbformat": 4,
 "nbformat_minor": 1
}
